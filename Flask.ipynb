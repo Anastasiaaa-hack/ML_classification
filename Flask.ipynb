{
 "cells": [
  {
   "cell_type": "code",
   "execution_count": 9,
   "id": "b9e2f9e9-9559-4c3c-894b-d96de666ede6",
   "metadata": {},
   "outputs": [
    {
     "name": "stdout",
     "output_type": "stream",
     "text": [
      "Requirement already satisfied: flask in c:\\users\\nasty\\miniconda3\\lib\\site-packages (3.0.3)\n",
      "Requirement already satisfied: pillow in c:\\users\\nasty\\miniconda3\\lib\\site-packages (10.3.0)\n",
      "Requirement already satisfied: torch in c:\\users\\nasty\\miniconda3\\lib\\site-packages (2.3.0)\n",
      "Requirement already satisfied: torchvision in c:\\users\\nasty\\miniconda3\\lib\\site-packages (0.18.0)\n",
      "Requirement already satisfied: importlib-metadata>=3.6.0 in c:\\users\\nasty\\miniconda3\\lib\\site-packages (from flask) (7.1.0)\n",
      "Requirement already satisfied: blinker>=1.6.2 in c:\\users\\nasty\\miniconda3\\lib\\site-packages (from flask) (1.8.2)\n",
      "Requirement already satisfied: Jinja2>=3.1.2 in c:\\users\\nasty\\miniconda3\\lib\\site-packages (from flask) (3.1.4)\n",
      "Requirement already satisfied: Werkzeug>=3.0.0 in c:\\users\\nasty\\miniconda3\\lib\\site-packages (from flask) (3.0.3)\n",
      "Requirement already satisfied: click>=8.1.3 in c:\\users\\nasty\\miniconda3\\lib\\site-packages (from flask) (8.1.7)\n",
      "Requirement already satisfied: itsdangerous>=2.1.2 in c:\\users\\nasty\\miniconda3\\lib\\site-packages (from flask) (2.2.0)\n",
      "Requirement already satisfied: mkl<=2021.4.0,>=2021.1.1 in c:\\users\\nasty\\miniconda3\\lib\\site-packages (from torch) (2021.4.0)\n",
      "Requirement already satisfied: filelock in c:\\users\\nasty\\miniconda3\\lib\\site-packages (from torch) (3.14.0)\n",
      "Requirement already satisfied: networkx in c:\\users\\nasty\\miniconda3\\lib\\site-packages (from torch) (3.2.1)\n",
      "Requirement already satisfied: typing-extensions>=4.8.0 in c:\\users\\nasty\\miniconda3\\lib\\site-packages (from torch) (4.12.1)\n",
      "Requirement already satisfied: sympy in c:\\users\\nasty\\miniconda3\\lib\\site-packages (from torch) (1.12.1)\n",
      "Requirement already satisfied: fsspec in c:\\users\\nasty\\miniconda3\\lib\\site-packages (from torch) (2024.5.0)\n",
      "Requirement already satisfied: numpy in c:\\users\\nasty\\miniconda3\\lib\\site-packages (from torchvision) (1.26.4)\n",
      "Requirement already satisfied: colorama in c:\\users\\nasty\\miniconda3\\lib\\site-packages (from click>=8.1.3->flask) (0.4.4)\n",
      "Requirement already satisfied: zipp>=0.5 in c:\\users\\nasty\\miniconda3\\lib\\site-packages (from importlib-metadata>=3.6.0->flask) (3.19.1)\n",
      "Requirement already satisfied: MarkupSafe>=2.0 in c:\\users\\nasty\\miniconda3\\lib\\site-packages (from Jinja2>=3.1.2->flask) (2.1.5)\n",
      "Requirement already satisfied: tbb==2021.* in c:\\users\\nasty\\miniconda3\\lib\\site-packages (from mkl<=2021.4.0,>=2021.1.1->torch) (2021.12.0)\n",
      "Requirement already satisfied: intel-openmp==2021.* in c:\\users\\nasty\\miniconda3\\lib\\site-packages (from mkl<=2021.4.0,>=2021.1.1->torch) (2021.4.0)\n",
      "Requirement already satisfied: mpmath<1.4.0,>=1.1.0 in c:\\users\\nasty\\miniconda3\\lib\\site-packages (from sympy->torch) (1.3.0)\n"
     ]
    }
   ],
   "source": [
    "!pip install flask pillow torch torchvision"
   ]
  },
  {
   "cell_type": "code",
   "execution_count": null,
   "id": "02677f34-3ac3-41b4-ab7b-01b1ecef755e",
   "metadata": {},
   "outputs": [
    {
     "name": "stdout",
     "output_type": "stream",
     "text": [
      " * Serving Flask app '__main__'\n",
      " * Debug mode: off\n"
     ]
    },
    {
     "name": "stderr",
     "output_type": "stream",
     "text": [
      "WARNING: This is a development server. Do not use it in a production deployment. Use a production WSGI server instead.\n",
      " * Running on http://127.0.0.1:5000\n",
      "Press CTRL+C to quit\n",
      "127.0.0.1 - - [03/Jun/2024 15:02:33] \"GET /classify HTTP/1.1\" 200 -\n",
      "127.0.0.1 - - [03/Jun/2024 15:03:36] \"GET /classify HTTP/1.1\" 200 -\n",
      "127.0.0.1 - - [03/Jun/2024 15:04:09] \"POST /classify HTTP/1.1\" 200 -\n",
      "127.0.0.1 - - [03/Jun/2024 15:04:14] \"GET /classify HTTP/1.1\" 200 -\n"
     ]
    }
   ],
   "source": [
    "from flask import Flask, request, jsonify\n",
    "from PIL import Image\n",
    "import numpy as np\n",
    "import torch\n",
    "import torchvision.transforms as transforms\n",
    "import torchvision.models as models\n",
    "\n",
    "app = Flask(__name__)\n",
    "model = models.resnet50(pretrained=True)\n",
    "model.eval()\n",
    "\n",
    "def preprocess_image(image):\n",
    "    preprocess = transforms.Compose([\n",
    "        transforms.Resize(256),\n",
    "        transforms.CenterCrop(224),\n",
    "        transforms.ToTensor(),\n",
    "        transforms.Normalize(mean=[0.485, 0.456, 0.406], std=[0.229, 0.224, 0.225]),\n",
    "    ])\n",
    "    image = preprocess(image)\n",
    "    return image.unsqueeze(0)\n",
    "\n",
    "@app.route('/classify', methods=['GET','POST'])\n",
    "def classify_dish():\n",
    "    if 'file' not in request.files:\n",
    "        return jsonify({'error': 'No file part'})\n",
    "\n",
    "    file = request.files['file']\n",
    "\n",
    "    if file.filename == '':\n",
    "        return jsonify({'error': 'No selected file'})\n",
    "\n",
    "    try:\n",
    "        image = Image.open(file)\n",
    "        image_tensor = preprocess_image(image)\n",
    "\n",
    "        with torch.no_grad():\n",
    "            output = model(image_tensor)\n",
    "            probabilities = torch.nn.functional.softmax(output[0], dim=0)\n",
    "            predicted_class = torch.argmax(probabilities).item()\n",
    "\n",
    "        return jsonify({'predicted_class': predicted_class, 'probabilities': probabilities.tolist()})\n",
    "    except Exception as e:\n",
    "        return jsonify({'error': str(e)})\n",
    "\n",
    "if __name__ == '__main__':\n",
    "    app.run()\n"
   ]
  }
 ],
 "metadata": {
  "kernelspec": {
   "display_name": "Python 3 (ipykernel)",
   "language": "python",
   "name": "python3"
  },
  "language_info": {
   "codemirror_mode": {
    "name": "ipython",
    "version": 3
   },
   "file_extension": ".py",
   "mimetype": "text/x-python",
   "name": "python",
   "nbconvert_exporter": "python",
   "pygments_lexer": "ipython3",
   "version": "3.9.12"
  }
 },
 "nbformat": 4,
 "nbformat_minor": 5
}
